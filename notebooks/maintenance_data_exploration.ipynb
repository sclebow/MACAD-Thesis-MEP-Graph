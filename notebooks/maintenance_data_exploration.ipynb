{
 "cells": [
  {
   "cell_type": "code",
   "execution_count": 1,
   "id": "85e05d52",
   "metadata": {},
   "outputs": [],
   "source": [
    "import pandas as pd\n",
    "from pprint import pprint"
   ]
  },
  {
   "cell_type": "code",
   "execution_count": 2,
   "id": "ebda869d",
   "metadata": {},
   "outputs": [
    {
     "name": "stderr",
     "output_type": "stream",
     "text": [
      "C:\\Users\\scleb\\AppData\\Local\\Temp\\ipykernel_10948\\4170506064.py:1: DtypeWarning: Columns (3,4,6,10,17,19,21) have mixed types. Specify dtype option on import or set low_memory=False.\n",
      "  df = pd.read_csv('data/Facility Management Unified Classification Database (FMUCD).csv', encoding='utf-8')\n"
     ]
    }
   ],
   "source": [
    "df = pd.read_csv('data/Facility Management Unified Classification Database (FMUCD).csv', encoding='utf-8')"
   ]
  },
  {
   "cell_type": "code",
   "execution_count": 3,
   "id": "2c9f9db3",
   "metadata": {},
   "outputs": [
    {
     "name": "stdout",
     "output_type": "stream",
     "text": [
      "   UniversityID Country State/Province BuildingID         BuildingName  \\\n",
      "0             1  Canada    Nova Scotia       A050     COBURG ROAD 6414   \n",
      "1             1  Canada    Nova Scotia        NaN                  NaN   \n",
      "2             1  Canada    Nova Scotia       C201       LSC-BIOL&EARTH   \n",
      "3             1  Canada    Nova Scotia       J351  SEXTON MEMORIAL GYM   \n",
      "4             1  Canada    Nova Scotia       C201       LSC-BIOL&EARTH   \n",
      "\n",
      "       Size                     Type  BuiltYear  \\\n",
      "0    5529.0                 Research     1942.0   \n",
      "1       NaN                      NaN        NaN   \n",
      "2  161395.0  Mixed Teaching/Research     1971.0   \n",
      "3   30619.0       Student Experience     1963.0   \n",
      "4  161395.0  Mixed Teaching/Research     1971.0   \n",
      "\n",
      "   FCI (facility condition index)  CRV (current replacement value)  ...  \\\n",
      "0                        0.786664                         981590.0  ...   \n",
      "1                             NaN                              NaN  ...   \n",
      "2                        0.449394                       52886380.0  ...   \n",
      "3                        0.692297                        6394240.0  ...   \n",
      "4                        0.449394                       52886380.0  ...   \n",
      "\n",
      "  LaborHours MinTemp.(°C) MaxTemp.(°C) Atmospheric pressure(hPa) Humidity(%)  \\\n",
      "0        3.0    -4.232917     0.299583               1023.291667   82.541667   \n",
      "1        5.0    -6.034583    -0.784167                998.125000   75.625000   \n",
      "2        0.0    -9.900417    -1.926667               1017.250000   84.208333   \n",
      "3       19.5     5.243750     6.841667               1014.375000   98.041667   \n",
      "4        0.5     0.602500     4.664167               1012.833333   91.500000   \n",
      "\n",
      "  WindSpeed(m/s)  WindDegree Precipitation(mm) Snow(mm) Cloudness(%)  \n",
      "0       2.379167  170.583333              0.00     0.00    87.583333  \n",
      "1       4.229167  278.541667              0.00     0.11    77.500000  \n",
      "2       1.924167  254.833333              0.00     4.42    88.375000  \n",
      "3       3.924583  225.833333              0.00     0.00    82.958333  \n",
      "4       3.895417  176.791667              2.39     1.16    81.000000  \n",
      "\n",
      "[5 rows x 38 columns]\n"
     ]
    }
   ],
   "source": [
    "\n",
    "print(df.head())\n",
    "\n",
    "# Save first 10 rows to a new CSV file\n",
    "df.head(10).to_csv('data/first_10_rows.csv', index=False)"
   ]
  },
  {
   "cell_type": "code",
   "execution_count": 4,
   "id": "f9aeee54",
   "metadata": {},
   "outputs": [
    {
     "name": "stdout",
     "output_type": "stream",
     "text": [
      "['UniversityID',\n",
      " 'Country',\n",
      " 'State/Province',\n",
      " 'BuildingID',\n",
      " 'BuildingName',\n",
      " 'Size',\n",
      " 'Type',\n",
      " 'BuiltYear',\n",
      " 'FCI (facility condition index)',\n",
      " 'CRV (current replacement value)',\n",
      " 'DMC (deferred maintenance cost)',\n",
      " 'SystemCode',\n",
      " 'SystemDescription',\n",
      " 'SubsystemCode',\n",
      " 'SubsystemDescription',\n",
      " 'DescriptiveCode',\n",
      " 'ComponentDescription',\n",
      " 'WOID',\n",
      " 'WODescription',\n",
      " 'WOPriority',\n",
      " 'WOStartDate',\n",
      " 'WOEndDate',\n",
      " 'WODuration',\n",
      " 'PPM/UPM',\n",
      " 'LaborCost',\n",
      " 'MaterialCost',\n",
      " 'OtherCost',\n",
      " 'TotalCost',\n",
      " 'LaborHours',\n",
      " 'MinTemp.(°C)',\n",
      " 'MaxTemp.(°C)',\n",
      " 'Atmospheric pressure(hPa)',\n",
      " 'Humidity(%)',\n",
      " 'WindSpeed(m/s)',\n",
      " 'WindDegree',\n",
      " 'Precipitation(mm)',\n",
      " 'Snow(mm)',\n",
      " 'Cloudness(%)']\n"
     ]
    }
   ],
   "source": [
    "pprint(df.columns.tolist())"
   ]
  },
  {
   "cell_type": "code",
   "execution_count": 9,
   "id": "96cc36a8",
   "metadata": {},
   "outputs": [
    {
     "name": "stdout",
     "output_type": "stream",
     "text": [
      "['Research',\n",
      " nan,\n",
      " 'Mixed Teaching/Research',\n",
      " 'Student Experience',\n",
      " 'Teaching',\n",
      " 'Other',\n",
      " 'RESIDENTIAL',\n",
      " 'MEDICAL',\n",
      " 'ATHLETICS / RECREATION',\n",
      " 'PHYSICAL / NATURAL SCIENCE LAB',\n",
      " 'HEALTH / CHEM / BIO SCIENCE LAB',\n",
      " 'PERFORMANCE / EXHIBITION / CONF',\n",
      " 'CLASSROOM',\n",
      " 'ARTS / DESIGN LAB',\n",
      " 'OFFICE',\n",
      " 'CENTRAL SERVICE',\n",
      " 'VETERINARY',\n",
      " 'AGRICULTURAL',\n",
      " 'PARKING',\n",
      " 'CLASSROOM / OFFICE',\n",
      " 'LIBRARY',\n",
      " 'UTILITY',\n",
      " 'SOCIAL / STUDENT LIFE',\n",
      " 'STORAGE / WAREHOUSE']\n"
     ]
    }
   ],
   "source": [
    "# Print unique values in the 'Type' column\n",
    "unique_types = df['Type'].unique()\n",
    "pprint(unique_types.tolist())"
   ]
  }
 ],
 "metadata": {
  "kernelspec": {
   "display_name": "venv",
   "language": "python",
   "name": "python3"
  },
  "language_info": {
   "codemirror_mode": {
    "name": "ipython",
    "version": 3
   },
   "file_extension": ".py",
   "mimetype": "text/x-python",
   "name": "python",
   "nbconvert_exporter": "python",
   "pygments_lexer": "ipython3",
   "version": "3.12.9"
  }
 },
 "nbformat": 4,
 "nbformat_minor": 5
}
