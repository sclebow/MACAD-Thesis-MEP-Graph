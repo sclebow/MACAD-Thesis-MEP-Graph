{
 "cells": [
  {
   "cell_type": "code",
   "execution_count": null,
   "id": "a335b23d",
   "metadata": {},
   "outputs": [],
   "source": [
    "# Copyright (C) 2025  Scott Lebow and Krisztian Hajdu\n",
    "\n",
    "# Permission is hereby granted, free of charge, to any person obtaining a copy\n",
    "# of this software and associated documentation files (the \"Software\"), to deal\n",
    "# in the Software without restriction, including without limitation the rights\n",
    "# to use, copy, modify, merge, publish, distribute, sublicense, and/or sell\n",
    "# copies of the Software, and to permit persons to whom the Software is\n",
    "# furnished to do so, subject to the following conditions:\n",
    "\n",
    "# The above copyright notice and this permission notice shall be included in all\n",
    "# copies or substantial portions of the Software.\n",
    "\n",
    "# THE SOFTWARE IS PROVIDED \"AS IS\", WITHOUT WARRANTY OF ANY KIND, EXPRESS OR\n",
    "# IMPLIED, INCLUDING BUT NOT LIMITED TO THE WARRANTIES OF MERCHANTABILITY,\n",
    "# FITNESS FOR A PARTICULAR PURPOSE AND NONINFRINGEMENT. IN NO EVENT SHALL THE\n",
    "# AUTHORS OR COPYRIGHT HOLDERS BE LIABLE FOR ANY CLAIM, DAMAGES OR OTHER\n",
    "# LIABILITY, WHETHER IN AN ACTION OF CONTRACT, TORT OR OTHERWISE, ARISING FROM,\n",
    "# OUT OF OR IN CONNECTION WITH THE SOFTWARE OR THE USE OR OTHER DEALINGS IN THE\n",
    "# SOFTWARE.\n",
    "\n",
    "# Author contact:\n",
    "# Scott Lebow: scott.lebow@student.iaac.net\n",
    "# Krisztian Hajdu: krisztian.hajdu@students.iaac.net"
   ]
  },
  {
   "cell_type": "code",
   "execution_count": 22,
   "id": "d81bf738",
   "metadata": {},
   "outputs": [
    {
     "name": "stdout",
     "output_type": "stream",
     "text": [
      "Current working directory: c:\\Users\\scleb\\Documents\\bimsc25\\GitHub\\MACAD-Thesis-MEP-Graph\n"
     ]
    }
   ],
   "source": [
    "# Set the working directory to the next level up\n",
    "import os\n",
    "import pandas as pd\n",
    "script_dir = os.getcwd()\n",
    "\n",
    "if script_dir.endswith('\\\\notebooks'):\n",
    "    new_dir = '\\\\'.join(script_dir.split('\\\\')[:-1])\n",
    "else:\n",
    "    new_dir = script_dir\n",
    "os.chdir(new_dir)\n",
    "print(f\"Current working directory: {new_dir}\")\n",
    "\n",
    "# Load the unique requirements csv file to verify the data\n",
    "unique_df = pd.read_excel('tables/unique_requirements.xlsx')"
   ]
  },
  {
   "cell_type": "code",
   "execution_count": 23,
   "id": "1c6683a0",
   "metadata": {},
   "outputs": [
    {
     "name": "stdout",
     "output_type": "stream",
     "text": [
      "Columns in unique_requirements.csv: ['Attribute Name', 'Description', 'Unit Type', 'Unit Description', 'Example Value 1', 'Example Value 2', 'Required for']\n"
     ]
    }
   ],
   "source": [
    "columns = unique_df.columns.tolist()\n",
    "print(f\"Columns in unique_requirements.csv: {columns}\")"
   ]
  },
  {
   "cell_type": "code",
   "execution_count": 24,
   "id": "7aa326e6",
   "metadata": {},
   "outputs": [],
   "source": [
    "# Change 'Required for' column to a list of strings\n",
    "unique_df['Required for (list)'] = unique_df['Required for'].apply(lambda x: [item.strip() for item in x.split('\\n') if item.strip()])\n"
   ]
  },
  {
   "cell_type": "code",
   "execution_count": 25,
   "id": "8a0a6892",
   "metadata": {},
   "outputs": [
    {
     "name": "stdout",
     "output_type": "stream",
     "text": [
      "Unique component types: 58\n",
      "Power Supply - Lighting - Self-contained emergency lighting systems - Emergency luminaires\n",
      "Power Supply - Cable arrangement - High-voltage systems - Power busbar trunking\n",
      "Power Supply - Grounding and lightning protection - Lightning protection systems - Lightning protection and earthing components\n",
      "Power Supply - Lighting - General lighting systems - Infrared lamps\n",
      "Power Supply - Power transmission - Low-voltage systems - Electrical protective devices\n",
      "Power Supply - Cable arrangement - High-voltage systems - Cable ladders\n",
      "Power Supply - Power transmission - High-voltage systems - Distribution boards\n",
      "Power Supply - Power transmission - Low-voltage distribution systems - Service outlet poles\n",
      "Power Supply - Power transmission - Low-voltage distribution systems - Standard socket outlets\n",
      "Power Supply - Power transmission - High-voltage systems - Electrical protective devices\n",
      "Power Supply - Lighting - External lighting systems - Area floodlights\n",
      "Power Supply - Lighting - External lighting systems - Apron elevated lights\n",
      "Power Supply - Power transmission - High-voltage systems - High-voltage cables\n",
      "Power Supply - Power transmission - Uninterruptible power supply systems - Uninterruptible power supply (UPS) units\n",
      "Power Supply - Lighting - External lighting systems - Control and indicator panels\n",
      "Power Supply - Lighting - External lighting systems - Columns and column accessories\n",
      "Power Supply - Cable arrangement - Low-voltage systems - Cable protection products\n",
      "Power Supply - Power transmission - Low-voltage distribution systems - Electric vehicle charging points\n",
      "Power Supply - Power transmission - Low-voltage distribution systems - Connection cables\n",
      "Power Supply - Power transmission - Sanitary appliance systems - Electric boilers\n",
      "Power Supply - Lighting - General lighting systems - Lamps\n",
      "Power Supply - Lighting - Self-contained emergency lighting systems - Control and indicator panels\n",
      "Power Supply - Power transmission - Low-voltage systems - Master distribution boxes\n",
      "Power Supply - Lighting - Central battery-supplied emergency lighting systems - Emergency luminaires\n",
      "Power Supply - Power transmission - Fossil fuel power generation systems - Generator sets\n",
      "Power Supply - Cable arrangement - Low-voltage systems - Cable management and accessories\n",
      "Power Supply - Photovoltaic systems - Grid-connected photovoltaic systems - Leg supports\n",
      "Power Supply - Photovoltaic systems - Grid-connected photovoltaic systems - Structural bearings\n",
      "Power Supply - Lighting - Central battery-supplied emergency lighting systems - Control and indicator panels\n",
      "Power Supply - Power transmission - Uninterruptible power supply systems - Batteries\n",
      "Power Supply - Transformers - High-voltage systems - High-voltage liquid-immersed power transformers\n",
      "Power Supply - Transformers - High-voltage systems - High-voltage dry-type power transformers\n",
      "Power Supply - Power transmission - Low-voltage systems - Power conditioning equipment\n",
      "Power Supply - Grounding and lightning protection - Lightning protection systems - Earth rods\n",
      "Power Supply - Cable arrangement - Low-voltage systems - Cable trays\n",
      "Power Supply - Power transmission - Uninterruptible power supply systems - Distribution boards\n",
      "Power Supply - Cable arrangement - High-voltage systems - Cable brackets\n",
      "Power Supply - Power transmission - Low-voltage distribution systems - Electrical connection boxes\n",
      "Power Supply - Power transmission - Low-voltage distribution systems - Surface and concealed wiring enclosures\n",
      "Power Supply - Power transmission - Low-voltage distribution systems - Busbar trunking tap-off units\n",
      "Power Supply - Cable arrangement - Concrete manhole systems - Concrete manhole base units\n",
      "Power Supply - Cable arrangement - Low-voltage systems - Cable brackets\n",
      "Power Supply - Lighting - Obstacle beacon systems - Distribution boards\n",
      "Power Supply - Power transmission - Low-voltage distribution systems - Low-voltage switches\n",
      "Power Supply - Lighting - External lighting systems - Distribution boards\n",
      "Power Supply - Power transmission - Low-voltage distribution systems - Power busbar trunking\n",
      "Power Supply - Photovoltaic systems - Grid-connected photovoltaic systems - Photovoltaic modules\n",
      "Power Supply - Power transmission - Low-voltage distribution systems - Low-voltage cables\n",
      "Power Supply - Lighting - General lighting systems - Occupancy detectors\n",
      "Power Supply - Photovoltaic systems - Grid-connected photovoltaic systems - Inverters\n",
      "Power Supply - Power transmission - Low-voltage systems - Windsocks\n",
      "Power Supply - Lighting - General lighting systems - Distribution boards\n",
      "Power Supply - Cable arrangement - Low-voltage systems - Cable ladders\n",
      "Power Supply - Power transmission - Low-voltage systems - Energy meters\n",
      "Power Supply - Power transmission - Low-voltage systems - Slave distribution boxes\n",
      "Power Supply - Lighting - General lighting systems - Light switches\n",
      "Power Supply - Lighting - Obstacle beacon systems - Lighting beacons\n",
      "Power Supply - Cable arrangement - High-voltage systems - Cable management and accessories\n"
     ]
    }
   ],
   "source": [
    "component_lists = unique_df['Required for (list)'].tolist()\n",
    "\n",
    "all_components = set()\n",
    "\n",
    "for component_list in component_lists:\n",
    "    for component in component_list:\n",
    "        all_components.add(component)\n",
    "\n",
    "component_types = list(all_components)\n",
    "print(f\"Unique component types: {len(component_types)}\")\n",
    "for component in component_types:\n",
    "    print(component)"
   ]
  },
  {
   "cell_type": "code",
   "execution_count": 26,
   "id": "dbad9f63",
   "metadata": {},
   "outputs": [
    {
     "name": "stdout",
     "output_type": "stream",
     "text": [
      "Component types dataframe created with unique attributes:\n",
      "                                      Component Type  Color rendering index  \\\n",
      "0  Power Supply - Lighting - Self-contained emerg...                   True   \n",
      "1  Power Supply - Cable arrangement - High-voltag...                  False   \n",
      "2  Power Supply - Grounding and lightning protect...                  False   \n",
      "3  Power Supply - Lighting - General lighting sys...                   True   \n",
      "4  Power Supply - Power transmission - Low-voltag...                  False   \n",
      "\n",
      "   Color temperature  Connector types  Contractor  Cross-section  End 1  \\\n",
      "0               True            False       False          False  False   \n",
      "1              False            False       False          False  False   \n",
      "2              False            False       False          False  False   \n",
      "3               True            False       False          False  False   \n",
      "4              False            False       False          False  False   \n",
      "\n",
      "   End 2  Function  Identifier  ...  Physical Width  Short-circuit strength  \\\n",
      "0  False     False        True  ...           False                   False   \n",
      "1  False     False       False  ...           False                   False   \n",
      "2  False     False       False  ...            True                   False   \n",
      "3  False     False        True  ...           False                   False   \n",
      "4  False     False       False  ...           False                    True   \n",
      "\n",
      "   Socket   Type  Lamp Type  Voltage  Warranty  Wheeled (yes/no)  \\\n",
      "0    True  False       True     True      True             False   \n",
      "1   False  False      False     True     False             False   \n",
      "2   False   True      False    False     False             False   \n",
      "3    True  False       True     True      True             False   \n",
      "4   False  False      False    False      True              True   \n",
      "\n",
      "   Year of installation  Year of manufacture  \n",
      "0                 False                 True  \n",
      "1                 False                 True  \n",
      "2                 False                False  \n",
      "3                 False                 True  \n",
      "4                 False                 True  \n",
      "\n",
      "[5 rows x 39 columns]\n"
     ]
    }
   ],
   "source": [
    "# Create a new dataframe with the unique component types\n",
    "component_types_df = pd.DataFrame(component_types, columns=['Component Type'])\n",
    "\n",
    "# Create a new column in the component_types_df for each 'Attribute Name' in the unique_df\n",
    "unique_attributes = unique_df['Attribute Name'].unique()\n",
    "component_types_df = component_types_df.reindex(columns=component_types_df.columns.tolist() + list(unique_attributes))\n",
    "\n",
    "# Fill the new columns with True/False based on whether the 'Component Type' is in the 'Required for (list)' of the unique_df for each 'Attribute Name'\n",
    "for attribute in unique_attributes:\n",
    "    component_types_df[attribute] = component_types_df['Component Type'].apply(\n",
    "        lambda x: x in unique_df[unique_df['Attribute Name'] == attribute]['Required for (list)'].explode().tolist()\n",
    "    )\n",
    "\n",
    "print(\"Component types dataframe created with unique attributes:\")\n",
    "print(component_types_df.head())"
   ]
  },
  {
   "cell_type": "code",
   "execution_count": 27,
   "id": "b7aaa972",
   "metadata": {},
   "outputs": [],
   "source": [
    "# Save the filtered DataFrame to a new csv file\n",
    "component_types_df.to_csv('tables/component_types.csv', index=False)"
   ]
  }
 ],
 "metadata": {
  "kernelspec": {
   "display_name": "venv",
   "language": "python",
   "name": "python3"
  },
  "language_info": {
   "codemirror_mode": {
    "name": "ipython",
    "version": 3
   },
   "file_extension": ".py",
   "mimetype": "text/x-python",
   "name": "python",
   "nbconvert_exporter": "python",
   "pygments_lexer": "ipython3",
   "version": "3.12.9"
  }
 },
 "nbformat": 4,
 "nbformat_minor": 5
}
