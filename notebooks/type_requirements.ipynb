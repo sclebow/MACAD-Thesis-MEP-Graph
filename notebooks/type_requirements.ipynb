{
 "cells": [
  {
   "cell_type": "code",
   "execution_count": null,
   "id": "a0a3cdd9",
   "metadata": {},
   "outputs": [],
   "source": [
    "# Copyright (C) 2025  Scott Lebow and Krisztian Hajdu\n",
    "\n",
    "# Permission is hereby granted, free of charge, to any person obtaining a copy\n",
    "# of this software and associated documentation files (the \"Software\"), to deal\n",
    "# in the Software without restriction, including without limitation the rights\n",
    "# to use, copy, modify, merge, publish, distribute, sublicense, and/or sell\n",
    "# copies of the Software, and to permit persons to whom the Software is\n",
    "# furnished to do so, subject to the following conditions:\n",
    "\n",
    "# The above copyright notice and this permission notice shall be included in all\n",
    "# copies or substantial portions of the Software.\n",
    "\n",
    "# THE SOFTWARE IS PROVIDED \"AS IS\", WITHOUT WARRANTY OF ANY KIND, EXPRESS OR\n",
    "# IMPLIED, INCLUDING BUT NOT LIMITED TO THE WARRANTIES OF MERCHANTABILITY,\n",
    "# FITNESS FOR A PARTICULAR PURPOSE AND NONINFRINGEMENT. IN NO EVENT SHALL THE\n",
    "# AUTHORS OR COPYRIGHT HOLDERS BE LIABLE FOR ANY CLAIM, DAMAGES OR OTHER\n",
    "# LIABILITY, WHETHER IN AN ACTION OF CONTRACT, TORT OR OTHERWISE, ARISING FROM,\n",
    "# OUT OF OR IN CONNECTION WITH THE SOFTWARE OR THE USE OR OTHER DEALINGS IN THE\n",
    "# SOFTWARE.\n",
    "\n",
    "# Author contact:\n",
    "# Scott Lebow: scott.lebow@student.iaac.net\n",
    "# Krisztian Hajdu: krisztian.hajdu@students.iaac.net"
   ]
  },
  {
   "cell_type": "code",
   "execution_count": 2,
   "id": "1ceadf43",
   "metadata": {},
   "outputs": [],
   "source": [
    "import pandas as pd"
   ]
  },
  {
   "cell_type": "code",
   "execution_count": 3,
   "id": "84b6a13d",
   "metadata": {},
   "outputs": [
    {
     "name": "stdout",
     "output_type": "stream",
     "text": [
      "        Szakág         Trade           Rendszercsoport         System groups  \\\n",
      "0  Áramellátás  Power Supply                Erőátvitel    Power transmission   \n",
      "1  Áramellátás  Power Supply                Erőátvitel    Power transmission   \n",
      "2  Áramellátás  Power Supply  Fotovoltaikus rendszerek  Photovoltaic systems   \n",
      "3  Áramellátás  Power Supply  Fotovoltaikus rendszerek  Photovoltaic systems   \n",
      "4  Áramellátás  Power Supply  Fotovoltaikus rendszerek  Photovoltaic systems   \n",
      "\n",
      "             Code                                 Title          Code.1  \\\n",
      "0     Ss_40_15_75            Sanitary appliance systems  Pr_60_60_08_27   \n",
      "1     Ss_70_10_30  Fossil fuel power generation systems  Pr_60_70_65_34   \n",
      "2  Ss_70_10_70_35   Grid-connected photovoltaic systems  Pr_20_85_47_47   \n",
      "3  Ss_70_10_70_35   Grid-connected photovoltaic systems     Pr_20_85_85   \n",
      "4  Ss_70_10_70_35   Grid-connected photovoltaic systems  Pr_60_70_65_63   \n",
      "\n",
      "                Title.1                  Név  \\\n",
      "0      Electric boilers  Elektromos bojlerek   \n",
      "1        Generator sets      Dízel generátor   \n",
      "2          Leg supports                  NaN   \n",
      "3   Structural bearings                  NaN   \n",
      "4  Photovoltaic modules        Napelem panel   \n",
      "\n",
      "                 Javaslat a szükséges paraméterekre:  \\\n",
      "0  Gyártó; Gyártási év; Fizikai méret; Névleges t...   \n",
      "1  Gyártó; Gyártási év; Fizikai méret; Névleges t...   \n",
      "2                                  Anyag, Teherbírás   \n",
      "3                                  Anyag, Teherbírás   \n",
      "4  Gyártó; Gyártási év; Típus; Fizikai méret; Név...   \n",
      "\n",
      "             Recommendation for required parameters:  \n",
      "0  Manufacturer; Year of manufacture; Physical si...  \n",
      "1  Manufacturer; Year of manufacture; Physical si...  \n",
      "2                            Material, Load capacity  \n",
      "3                            Material, Load capacity  \n",
      "4  Manufacturer; Year of manufacture; Type; Physi...  \n"
     ]
    }
   ],
   "source": [
    "# Load the xlsx file into a DataFrame\n",
    "df = pd.read_excel('type_requirements.xlsx')\n",
    "print(df.head())  # Display the first few rows of the DataFrame to verify the data"
   ]
  },
  {
   "cell_type": "code",
   "execution_count": 4,
   "id": "193ae918",
   "metadata": {},
   "outputs": [
    {
     "name": "stdout",
     "output_type": "stream",
     "text": [
      "Columns in the DataFrame: ['Szakág', 'Trade', 'Rendszercsoport', 'System groups', 'Code', 'Title', 'Code.1', 'Title.1', 'Név', 'Javaslat a szükséges paraméterekre:', 'Recommendation for required parameters:']\n",
      "Filtered DataFrame:\n",
      "           Trade         System groups            Code  \\\n",
      "0  Power Supply    Power transmission     Ss_40_15_75   \n",
      "1  Power Supply    Power transmission     Ss_70_10_30   \n",
      "2  Power Supply  Photovoltaic systems  Ss_70_10_70_35   \n",
      "3  Power Supply  Photovoltaic systems  Ss_70_10_70_35   \n",
      "4  Power Supply  Photovoltaic systems  Ss_70_10_70_35   \n",
      "\n",
      "                                  Title          Code.1               Title.1  \\\n",
      "0            Sanitary appliance systems  Pr_60_60_08_27      Electric boilers   \n",
      "1  Fossil fuel power generation systems  Pr_60_70_65_34        Generator sets   \n",
      "2   Grid-connected photovoltaic systems  Pr_20_85_47_47          Leg supports   \n",
      "3   Grid-connected photovoltaic systems     Pr_20_85_85   Structural bearings   \n",
      "4   Grid-connected photovoltaic systems  Pr_60_70_65_63  Photovoltaic modules   \n",
      "\n",
      "             Recommendation for required parameters:  \n",
      "0  Manufacturer; Year of manufacture; Physical si...  \n",
      "1  Manufacturer; Year of manufacture; Physical si...  \n",
      "2                            Material, Load capacity  \n",
      "3                            Material, Load capacity  \n",
      "4  Manufacturer; Year of manufacture; Type; Physi...  \n"
     ]
    }
   ],
   "source": [
    "columns = df.columns.tolist()\n",
    "print(\"Columns in the DataFrame:\", columns)  # Display the column names to understand the structure\n",
    "\n",
    "columns_to_keep =  ['Trade', 'System groups', 'Code', 'Title', 'Code.1', 'Title.1', 'Recommendation for required parameters:']\n",
    "\n",
    "df = df[columns_to_keep]  # Keep only the specified columns\n",
    "print(\"Filtered DataFrame:\\n\", df.head())  # Display the first few rows of"
   ]
  },
  {
   "cell_type": "code",
   "execution_count": 5,
   "id": "14dcab0c",
   "metadata": {},
   "outputs": [],
   "source": [
    "# 'Recommendation for required parameters:' column is a string that needs to be split with ';'\n",
    "df['Recommendation for required parameters:'] = df['Recommendation for required parameters:'].str.split(';')\n",
    "df['Recommendation for required parameters:'] = df['Recommendation for required parameters:'].apply(lambda x: [item.strip() for item in x if item.strip()])  # Clean up whitespace\n"
   ]
  },
  {
   "cell_type": "code",
   "execution_count": 7,
   "id": "5f25ebe2",
   "metadata": {},
   "outputs": [],
   "source": [
    "# Add a long description column that combines 'Trade', 'System Groups', 'Title', and 'Title.1'\n",
    "df['Long Description'] = df.apply(lambda row: f\"{row['Trade']} - {row['System groups']} - {row['Title']} - {row['Title.1']}\", axis=1)\n",
    "\n"
   ]
  },
  {
   "cell_type": "code",
   "execution_count": 9,
   "id": "b950bd2b",
   "metadata": {},
   "outputs": [
    {
     "name": "stdout",
     "output_type": "stream",
     "text": [
      "Lines with End 1 in the 'Recommendation for required parameters:' column:\n",
      " 11    Power Supply - Power transmission - High-volta...\n",
      "44    Power Supply - Power transmission - Low-voltag...\n",
      "51    Power Supply - Power transmission - Low-voltag...\n",
      "Name: Long Description, dtype: object\n"
     ]
    }
   ],
   "source": [
    "# Find lines with search_value in the 'Recommendation for required parameters:' column\n",
    "search_value = 'End 1'\n",
    "search_lines = df[df['Recommendation for required parameters:'].apply(lambda x: any(search_value in item for item in x))]['Long Description']\n",
    "print(f\"Lines with {search_value} in the 'Recommendation for required parameters:' column:\\n\", search_lines)  # Display the lines containing 'Live/Dead'"
   ]
  },
  {
   "cell_type": "code",
   "execution_count": 12,
   "id": "92f82efa",
   "metadata": {},
   "outputs": [
    {
     "name": "stdout",
     "output_type": "stream",
     "text": [
      "Unique requirements found:\n",
      "Manufacturer\n",
      "Year of manufacture\n",
      "Physical size\n",
      "Nominal performance\n",
      "Warranty\n",
      "Operating company/department\n",
      "Material, Load capacity\n",
      "Type\n",
      "Material\n",
      "Size\n",
      "Distribution cabinet identifier\n",
      "Nominal current\n",
      "Short-circuit strength\n",
      "Physical size [mm]\n",
      "Outdoor/Indoor\n",
      "Owner\n",
      "Identifier\n",
      "Voltage level\n",
      "Year of installation\n",
      "Type/cross-section\n",
      "End 1\n",
      "End 2\n",
      "Contractor\n",
      "Live/Dead\n",
      "Mounting method: floor mounted / standing / wall mounted\n",
      "Masked: yes/no\n",
      "Function\n",
      "Installation method (mounting plate, DIN rail)\n",
      "Wheeled (yes/no)\n",
      "Type (LED, Metal-halide...)\n",
      "Performance\n",
      "Mounting height\n",
      "Color temperature\n",
      "Luminous flux\n",
      "Color rendering index\n",
      "Socket\n",
      "Number of cards\n",
      "Load capacity\n",
      "Installation year\n",
      "Year of manufacturee\n",
      "Cross-section\n",
      "Connector types\n",
      "Number of arms\n"
     ]
    }
   ],
   "source": [
    "unique_requirements = df['Recommendation for required parameters:'].explode().unique()\n",
    "print(\"Unique requirements found:\")\n",
    "for requirement in unique_requirements:\n",
    "    print(requirement)\n"
   ]
  },
  {
   "cell_type": "code",
   "execution_count": null,
   "id": "87be34d1",
   "metadata": {},
   "outputs": [
    {
     "name": "stdout",
     "output_type": "stream",
     "text": [
      "Saving unique requirements to 'unique_requirements.xlsx'\n"
     ]
    }
   ],
   "source": [
    "# Create a new DataFrame with unique requirements and the corresponding long descriptions\n",
    "unique_df = pd.DataFrame(unique_requirements, columns=['Requirement'])\n",
    "unique_df['Long Description'] = unique_df['Requirement'].apply(lambda x: df[df['Recommendation for required parameters:'].apply(lambda y: x in y)]['Long Description'].tolist())\n",
    "\n",
    "# # Print each unique requirement with its corresponding long description in a readable format\n",
    "# for index, row in unique_df.iterrows():\n",
    "#     print(f\"Requirement: {row['Requirement']}\")\n",
    "#     print(\"Long Descriptions:\")\n",
    "#     print(\", \".join(row['Long Description']) if row['Long Description'] else \"No long description available.\")\n",
    "\n",
    "# Save the unique requirements DataFrame to a new Excel file\n",
    "# Join the unique requirements with their long descriptions with \\n\n",
    "unique_df['Long Description'] = unique_df['Long Description'].apply(lambda x: '\\n'.join(x) if isinstance(x, list) else x)\n"
   ]
  },
  {
   "cell_type": "code",
   "execution_count": 15,
   "id": "109d7578",
   "metadata": {},
   "outputs": [
    {
     "name": "stdout",
     "output_type": "stream",
     "text": [
      "Saving unique requirements to 'unique_requirements.xlsx'\n",
      "Saving unique requirements to 'unique_requirements.csv'\n"
     ]
    }
   ],
   "source": [
    "\n",
    "print(\"Saving unique requirements to 'unique_requirements.xlsx'\")\n",
    "unique_df.to_excel('unique_requirements.xlsx', index=False)\n",
    "\n",
    "# Save as a csv file as well\n",
    "print(\"Saving unique requirements to 'unique_requirements.csv'\")\n",
    "unique_df.to_csv('unique_requirements.csv', index=False)"
   ]
  }
 ],
 "metadata": {
  "kernelspec": {
   "display_name": "venv",
   "language": "python",
   "name": "python3"
  },
  "language_info": {
   "codemirror_mode": {
    "name": "ipython",
    "version": 3
   },
   "file_extension": ".py",
   "mimetype": "text/x-python",
   "name": "python",
   "nbconvert_exporter": "python",
   "pygments_lexer": "ipython3",
   "version": "3.12.9"
  }
 },
 "nbformat": 4,
 "nbformat_minor": 5
}
